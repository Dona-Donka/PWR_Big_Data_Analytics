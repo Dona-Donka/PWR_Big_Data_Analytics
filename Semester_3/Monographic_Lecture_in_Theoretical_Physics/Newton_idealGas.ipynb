{
 "cells": [
  {
   "cell_type": "markdown",
   "metadata": {},
   "source": [
    "GAS EQUATION\n",
    "\n",
    "Newton method x1 = x0 - f(x0)/f'(xo)\n",
    "\n",
    "The ideal gas law pv = RT\n",
    "\n",
    "(p + a/v*v)(v-b) = RT\n",
    "\n",
    "Based on: http://danielhomola.com/2016/02/09/newtons-method-with-10-lines-of-python/\n"
   ]
  },
  {
   "cell_type": "code",
   "execution_count": 32,
   "metadata": {},
   "outputs": [
    {
     "name": "stdout",
     "output_type": "stream",
     "text": [
      "v of ideal gas:  2.4\n",
      "epslion:  0.0001\n",
      "exact v:  2.4000912230916804\n",
      "difference:  9.122309168052567e-05\n"
     ]
    }
   ],
   "source": [
    "R = 0.08\n",
    "a = 3.592\n",
    "b = 0.04267\n",
    "p = 10\n",
    "T = 300\n",
    "epslion = 0.0001\n",
    "\n",
    "v = (R*T)/p\n",
    "\n",
    "print(\"v of ideal gas: \", v)\n",
    "print(\"epslion: \", epslion)\n",
    "\n",
    "\n",
    "def gasEquation(v):\n",
    "    return p*v**3 - (v**2)*(b*p + R*T) - a*v -a*b\n",
    "\n",
    "def gasEquationDerivatie(v):\n",
    "    return 3*p*v**2 - 2*v*(b*p + T*T) - a\n",
    "v0=1\n",
    "\n",
    "while abs(v - v0) > epslion:\n",
    "    #print(v, v0)\n",
    "    v0 = v0 - gasEquation(v0)/gasEquationDerivatie(v0)\n",
    "print(\"exact v: \", v0)\n",
    "print(\"difference: \", abs(v-v0))\n"
   ]
  }
 ],
 "metadata": {
  "kernelspec": {
   "display_name": "Tensorflow",
   "language": "python",
   "name": "python-my-env"
  },
  "language_info": {
   "codemirror_mode": {
    "name": "ipython",
    "version": 3
   },
   "file_extension": ".py",
   "mimetype": "text/x-python",
   "name": "python",
   "nbconvert_exporter": "python",
   "pygments_lexer": "ipython3",
   "version": "3.7.6"
  }
 },
 "nbformat": 4,
 "nbformat_minor": 4
}
