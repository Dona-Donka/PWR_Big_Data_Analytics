{
 "cells": [
  {
   "cell_type": "markdown",
   "metadata": {},
   "source": [
    " Based on:\n",
    " https://moodle.nano.eu.org/pluginfile.php/263/mod_resource/content/2/NonlinearEquations.pdf\n",
    " https://en.wikipedia.org/wiki/Intermediate_value_theorem\n",
    " https://www.geeksforgeeks.org/program-for-bisection-method/\n",
    " \n",
    " THERMO-PHYSICAL CALCULATIONS\n",
    " \n",
    " C [J/kg/K] - heat\n",
    " T(K) - temperature\n",
    " C(T) = c0 + c1T + c2T^2 + c3T^3\n",
    " u(T) = integral(C(T)dT\n",
    " M [kg] - mass\n",
    " G [J] - energy\n",
    " \n",
    " Mu(T2) = Mu(T1) + delta_Q\n",
    " \n",
    "bisection method (bracketing methods) - methods to find a zero of a nonlinearfunction\n",
    "\n",
    "    1. f(x) - continous function in internal [a,b] where f(a)*f(b) > 0\n",
    "    2. c = (a+b)/2\n",
    "    3. The task is solved if c = 0, if not:\n",
    "        3.1 If f(a)*f(c) < 0, return to point 2 with c = (a+c)/2\n",
    "        3.2 If f(b)*(fc) < 0, return to point 2 with c = (b+c)/2\n",
    "        3.3 if not 3.1 and 3.2 - no zero point"
   ]
  },
  {
   "cell_type": "code",
   "execution_count": null,
   "metadata": {},
   "outputs": [],
   "source": [
    "import scipy.integrate as integrate\n",
    "from scipy.integrate import quad\n",
    "M = 1 # kg\n",
    "delta_Q = 10 # J\n",
    "T1 = 300 # K\n",
    "C_nickel = 0.44 # kJ/kg/K\n",
    "C_nickel = 4400 #J/kg/K\n",
    "\n",
    "\n",
    "# compute u(T)\n",
    "def integrand(C, T):\n",
    "    return C*T\n",
    "\n",
    "def expint(C, T):\n",
    "    return quad(integrand, 0, T, C)[0]\n",
    "\n",
    "#0 = M*u_T1 + delta_Q - M*u_T2\n",
    "u_T1 = expint(C_nickel, T1)\n",
    "U_T1 = M*u_T1\n",
    "print(\"U(T1) = \", U_T1)\n",
    "u_T2 = (U_T1 + delta_Q)/M\n",
    "\n"
   ]
  },
  {
   "cell_type": "markdown",
   "metadata": {},
   "source": [
    "Equation to solve:\n",
    "0 = 199*10^6 - u_T2"
   ]
  },
  {
   "cell_type": "code",
   "execution_count": null,
   "metadata": {},
   "outputs": [],
   "source": [
    "# initial [a,b]\n",
    "a = T1-1\n",
    "b = T1+5\n",
    "\n",
    "def checkAB(a, b):\n",
    "        if equation(a)*equation(b) <= 0:\n",
    "            return True\n",
    "\n",
    "def equation(c):\n",
    "   # print(\"Equation: \", (U_T1+delta_Q)/M,  expint(C_nickel,c), (U_T1+delta_Q)/M - expint(C_nickel,c))\n",
    "    return (U_T1+delta_Q)/M - expint(C_nickel, c)\n",
    "\n",
    "\n",
    "root = 50000\n",
    "while root not in range(-1, 1):\n",
    "    if equation(a)*equation(b) <= 0:\n",
    "        root = equation((a+b)/2)\n",
    "        if equation(a)*equation((a+b)/2) <= 0:\n",
    "            b = (a+b)/2\n",
    "        elif equation((a+b)/2)*equation(b) <= 0:\n",
    "            a = (a+b)/2\n",
    "        else:\n",
    "            print(\"WRONG.......................\")\n",
    "            break\n",
    "    if a == b:\n",
    "        break\n",
    "print(\"T1 = \", T1, \"T2 = \", (a+b)/2)\n",
    "    \n",
    "u_t2 = expint(C_nickel, (a+b)/2)\n"
   ]
  },
  {
   "cell_type": "code",
   "execution_count": null,
   "metadata": {},
   "outputs": [],
   "source": []
  },
  {
   "cell_type": "code",
   "execution_count": null,
   "metadata": {},
   "outputs": [],
   "source": []
  }
 ],
 "metadata": {
  "kernelspec": {
   "display_name": "Tensorflow",
   "language": "python",
   "name": "python-my-env"
  },
  "language_info": {
   "codemirror_mode": {
    "name": "ipython",
    "version": 3
   },
   "file_extension": ".py",
   "mimetype": "text/x-python",
   "name": "python",
   "nbconvert_exporter": "python",
   "pygments_lexer": "ipython3",
   "version": "3.7.6"
  }
 },
 "nbformat": 4,
 "nbformat_minor": 4
}
