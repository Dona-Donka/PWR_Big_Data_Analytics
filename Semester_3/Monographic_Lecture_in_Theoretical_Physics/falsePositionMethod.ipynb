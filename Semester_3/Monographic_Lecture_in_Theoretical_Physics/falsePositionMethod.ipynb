{
 "cells": [
  {
   "cell_type": "raw",
   "metadata": {},
   "source": [
    "Task 5.1 FALSE POSITION\n",
    "\n",
    "Use the False Position method to find a root of the function f(x)=e−xcosx \n",
    "in the range [8,12]. The required accuracy is ε=10^(−5)."
   ]
  },
  {
   "cell_type": "code",
   "execution_count": 88,
   "metadata": {},
   "outputs": [
    {
     "name": "stdout",
     "output_type": "stream",
     "text": [
      "11.23983956973647\n"
     ]
    }
   ],
   "source": [
    "from math import exp, cos\n",
    "\n",
    "accuracy = 10**(-5)\n",
    "a = 8\n",
    "b = 12\n",
    "c= 0\n",
    "\n",
    "while accuracy < abs(function(c)):\n",
    "    c = a - (b-a)*function(a)/(function(b) - function(a))\n",
    "    if function(a) * function(c) < 0:\n",
    "        b = c\n",
    "    else:\n",
    "        a = c\n",
    "print(c)"
   ]
  }
 ],
 "metadata": {
  "kernelspec": {
   "display_name": "Tensorflow",
   "language": "python",
   "name": "python-my-env"
  },
  "language_info": {
   "codemirror_mode": {
    "name": "ipython",
    "version": 3
   },
   "file_extension": ".py",
   "mimetype": "text/x-python",
   "name": "python",
   "nbconvert_exporter": "python",
   "pygments_lexer": "ipython3",
   "version": "3.7.6"
  }
 },
 "nbformat": 4,
 "nbformat_minor": 4
}
