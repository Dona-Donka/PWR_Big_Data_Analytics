{
 "cells": [
  {
   "cell_type": "raw",
   "metadata": {},
   "source": [
    "Task 5.2 Fixed Point Iteration\n\n",
    "f(x)=x^2+x−5\n",
   ]
  },
  {
   "cell_type": "code",
   "execution_count": 23,
   "metadata": {},
   "outputs": [
    {
     "name": "stdout",
     "output_type": "stream",
     "text": [
      "f(x) = 0 for: \n",
      " x1 = 1.79128784747792  \n",
      " x2 =  -2.79128784747792\n",
      "Fixed point1:  1.7912878474779204 g(x) = 5/(x+1)\n",
      "Fixed point:  -2.7912878474779195 g(x) = 5/x -1\n"
     ]
    }
   ],
   "source": [
    "from math import sqrt\n",
    "epslion = 0.0001\n",
    "iterations = 100\n",
    "\n",
    "xn=[x for x in range(iterations)]\n",
    "xn[0]=1.5\n",
    "\n",
    "def fixedPoint():\n",
    "    for i in range(iterations-1):\n",
    "        xn[i+1] = 5/xn[i] - 1\n",
    "    return xn[i] # -2.79\n",
    "\n",
    "\n",
    "def fixedPoint1():\n",
    "    for i in range(iterations-1):\n",
    "        xn[i+1] = 5 / (xn[i] + 1)\n",
    "    return xn[iterations-1] #1.79\n",
    "\n",
    "print(\"f(x) = 0 for: \\n x1 =\", (-1+sqrt(21))/2, \" \\n x2 = \" , (-1-sqrt(21))/2 )\n",
    "print(\"Fixed point1: \", fixedPoint1(), \"g(x) = 5/(x+1)\")\n",
    "print(\"Fixed point: \", fixedPoint(), \"g(x) = 5/x -1\")"
   ]
  },
  {
   "cell_type": "code",
   "execution_count": null,
   "metadata": {},
   "outputs": [],
   "source": []
  }
 ],
 "metadata": {
  "kernelspec": {
   "display_name": "Tensorflow",
   "language": "python",
   "name": "python-my-env"
  },
  "language_info": {
   "codemirror_mode": {
    "name": "ipython",
    "version": 3
   },
   "file_extension": ".py",
   "mimetype": "text/x-python",
   "name": "python",
   "nbconvert_exporter": "python",
   "pygments_lexer": "ipython3",
   "version": "3.7.6"
  }
 },
 "nbformat": 4,
 "nbformat_minor": 4
}
