{
 "cells": [
  {
   "cell_type": "raw",
   "metadata": {},
   "source": [
    "4.2 Square root\n",
    "Based on:\n",
    "https://johncarlosbaez.wordpress.com/2011/12/02/babylon-and-the-square-root-of-2/"
   ]
  },
  {
   "cell_type": "code",
   "execution_count": 2,
   "metadata": {},
   "outputs": [
    {
     "name": "stdout",
     "output_type": "stream",
     "text": [
      "sgrt(2) = 1.4142135623730951\n",
      "Newton suare root:  1.414213562373095\n"
     ]
    }
   ],
   "source": [
    "from math import sqrt\n",
    "\n",
    "def newtonSquareRoot():\n",
    "    value = 1\n",
    "    for i in range(10**4):\n",
    "        value = 0.5*(value+2.0/value)\n",
    "    return value\n",
    "\n",
    "print(\"sgrt(2) =\", sqrt(2))\n",
    "print(\"Newton suare root: \",newtonSquareRoot())"
   ]
  },
  {
   "cell_type": "raw",
   "metadata": {},
   "source": [
    "sgrt(2) = 1.4142135623730951\n",
    "Newton suare root:  1.414213562373095"
   ]
  },
  {
   "cell_type": "code",
   "execution_count": null,
   "metadata": {},
   "outputs": [],
   "source": []
  }
 ],
 "metadata": {
  "kernelspec": {
   "display_name": "Python 3",
   "language": "python",
   "name": "python3"
  },
  "language_info": {
   "codemirror_mode": {
    "name": "ipython",
    "version": 3
   },
   "file_extension": ".py",
   "mimetype": "text/x-python",
   "name": "python",
   "nbconvert_exporter": "python",
   "pygments_lexer": "ipython3",
   "version": "3.6.8"
  }
 },
 "nbformat": 4,
 "nbformat_minor": 4
}
